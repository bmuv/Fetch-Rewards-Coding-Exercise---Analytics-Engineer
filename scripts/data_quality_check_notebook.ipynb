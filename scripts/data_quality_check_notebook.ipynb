{
  "cells": [
    {
      "cell_type": "code",
      "execution_count": null,
      "metadata": {
        "colab": {
          "base_uri": "https://localhost:8080/"
        },
        "id": "dkHHepqGnDZ5",
        "outputId": "4714478e-fa85-4be6-c5a0-d85fd067f2ce"
      },
      "outputs": [],
      "source": [
        "!pip install pymongo"
      ]
    },
    {
      "cell_type": "code",
      "execution_count": null,
      "metadata": {
        "colab": {
          "base_uri": "https://localhost:8080/",
          "height": 382
        },
        "id": "S4MTYkKamdMo",
        "outputId": "7ed96d3d-4f8e-40e0-cf9d-8d2c0f85234e"
      },
      "outputs": [],
      "source": [
        "import pandas as pd\n",
        "import json\n",
        "from bson import json_util\n",
        "\n",
        "def read_mongodb_json(file_path):\n",
        "    # Read the entire file content\n",
        "    with open(file_path, 'r') as file:\n",
        "        content = file.read()\n",
        "\n",
        "    # Split the content into individual JSON objects\n",
        "    json_objects = content.strip().split('}\\n{')\n",
        "\n",
        "    # Properly format each JSON object\n",
        "    json_objects = [obj if obj.startswith('{') else '{' + obj for obj in json_objects]\n",
        "    json_objects = [obj if obj.endswith('}') else obj + '}' for obj in json_objects]\n",
        "\n",
        "    # Parse each JSON object\n",
        "    data = [json.loads(obj, object_hook=json_util.object_hook) for obj in json_objects]\n",
        "\n",
        "    # Use json_normalize to flatten nested structures\n",
        "    df = pd.json_normalize(data)\n",
        "\n",
        "    # Clean up column names\n",
        "    df.columns = df.columns.str.replace('$', '')\n",
        "    df.columns = df.columns.str.replace('.', '_')\n",
        "\n",
        "    return df\n",
        "\n",
        "# Read the data\n",
        "brands_path = 'brands.json'\n",
        "receipts_path = 'receipts.json'\n",
        "users_path = 'users.json'\n",
        "\n",
        "brands_df = read_mongodb_json(brands_path)\n",
        "receipts_df = read_mongodb_json(receipts_path)\n",
        "users_df = read_mongodb_json(users_path)\n"
      ]
    },
    {
      "cell_type": "code",
      "execution_count": null,
      "metadata": {
        "colab": {
          "base_uri": "https://localhost:8080/"
        },
        "id": "KJEVrH7a4A1U",
        "outputId": "84e757ed-99d5-40af-cebb-1b15ce2c3fde"
      },
      "outputs": [],
      "source": [
        "# Brands data analysis\n",
        "print(\"=== Brands Data Analysis ===\")\n",
        "\n",
        "# Display sample of brands data\n",
        "print(brands_df.sample(5))\n",
        "\n",
        "# Calculate percentage of test data\n",
        "name_percentage = (brands_df['name'].str.contains('test brand', case=False, na=False).sum() / len(brands_df)) * 100\n",
        "brandcode_percentage = (brands_df['brandCode'].str.contains('TEST BRANDCODE', case=False, na=False).sum() / len(brands_df)) * 100\n",
        "\n",
        "print(f\"Percentage of 'name' containing 'test brand': {name_percentage:.2f}%\")\n",
        "print(f\"Percentage of 'brandCode' containing 'TEST BRANDCODE': {brandcode_percentage:.2f}%\")\n",
        "\n",
        "# Shape of brands data\n",
        "print(f\"Shape of brands data: {brands_df.shape}\")\n",
        "\n",
        "# Percentage of null values in brands data\n",
        "print(\"Percentage of null values in brands data:\")\n",
        "print(brands_df.isnull().sum() / len(brands_df) * 100)\n",
        "\n",
        "# Count of duplicated values in brands data\n",
        "print(f\"Number of duplicated rows in brands data: {brands_df.duplicated().sum()}\")\n",
        "\n",
        "# Data types of columns in brands data\n",
        "print(\"Data types of columns in brands data:\")\n",
        "print(brands_df.dtypes)\n",
        "\n",
        "# Check for brandCode values containing barcode data\n",
        "barcode_like = brands_df['brandCode'].str.contains(r'^\\d{12,13}$', na=False)\n",
        "print(f\"Number of brandCode values that look like barcodes: {barcode_like.sum()}\")"
      ]
    },
    {
      "cell_type": "code",
      "execution_count": null,
      "metadata": {
        "id": "pb-PE2sp4GjX"
      },
      "outputs": [],
      "source": [
        "# Receipts data analysis\n",
        "print(\"\\n=== Receipts Data Analysis ===\")\n",
        "\n",
        "# Display sample of receipts data\n",
        "print(receipts_df.head())\n",
        "\n",
        "# Shape of receipts data\n",
        "print(f\"Shape of receipts data: {receipts_df.shape}\")\n",
        "\n",
        "# Data types of columns in receipts data\n",
        "print(\"Data types of columns in receipts data:\")\n",
        "print(receipts_df.dtypes)\n",
        "\n",
        "# Percentage of null values in receipts data (excluding rewardsReceiptItemList)\n",
        "print(\"Percentage of null values in receipts data (excluding rewardsReceiptItemList):\")\n",
        "print(receipts_df.drop('rewardsReceiptItemList', axis=1).isnull().sum() / len(receipts_df) * 100)\n",
        "\n",
        "# Analysis of rewardsReceiptItemList\n",
        "exploded_items_df = receipts_df['rewardsReceiptItemList'].dropna().explode().apply(pd.Series)\n",
        "\n",
        "print(\"Number of null values in exploded rewardsReceiptItemList:\")\n",
        "print(exploded_items_df.isnull().sum())\n",
        "\n",
        "print(\"Percentage of null values in exploded rewardsReceiptItemList:\")\n",
        "print(exploded_items_df.isnull().sum() / len(exploded_items_df) * 100)"
      ]
    },
    {
      "cell_type": "code",
      "execution_count": null,
      "metadata": {
        "colab": {
          "base_uri": "https://localhost:8080/"
        },
        "id": "cpC5vw6f4akx",
        "outputId": "e6382265-6c81-4e64-a3a8-d974fb7bedd9"
      },
      "outputs": [],
      "source": [
        "# Users data analysis\n",
        "print(\"\\n=== Users Data Analysis ===\")\n",
        "\n",
        "# Display sample of users data\n",
        "print(users_df.head())\n",
        "\n",
        "# Count and percentage of duplicated users\n",
        "duplicates_count = users_df.duplicated().sum()\n",
        "duplicates_percentage = duplicates_count / len(users_df) * 100\n",
        "print(f\"Number of duplicated rows in users data: {duplicates_count}\")\n",
        "print(f\"Percentage of duplicated rows in users data: {duplicates_percentage:.2f}%\")\n",
        "\n",
        "# Percentage of null values in users data\n",
        "print(\"Percentage of null values in users data:\")\n",
        "print(users_df.isnull().sum() / len(users_df) * 100)\n",
        "\n",
        "# Check for consistency between users and receipts data\n",
        "user_ids_in_receipts = set(receipts_df['userId'].unique())\n",
        "user_ids_in_users = set(users_df['_id'])\n",
        "missing_users = user_ids_in_receipts - user_ids_in_users\n",
        "print(f\"Number of user IDs in receipts not found in users data: {len(missing_users)}\")"
      ]
    }
  ],
  "metadata": {
    "colab": {
      "provenance": []
    },
    "kernelspec": {
      "display_name": "Python 3",
      "name": "python3"
    },
    "language_info": {
      "name": "python"
    }
  },
  "nbformat": 4,
  "nbformat_minor": 0
}
